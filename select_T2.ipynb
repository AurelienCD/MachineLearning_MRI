{
 "cells": [
  {
   "cell_type": "code",
   "execution_count": 9,
   "metadata": {},
   "outputs": [
    {
     "name": "stdout",
     "output_type": "stream",
     "text": [
      "G:\\merged\n"
     ]
    }
   ],
   "source": [
    "%cd G:\\merged"
   ]
  },
  {
   "cell_type": "code",
   "execution_count": 10,
   "metadata": {},
   "outputs": [],
   "source": [
    "directory = 'G:/merged/'"
   ]
  },
  {
   "cell_type": "code",
   "execution_count": 27,
   "metadata": {},
   "outputs": [
    {
     "data": {
      "text/plain": [
       "'G:\\\\merged'"
      ]
     },
     "execution_count": 27,
     "metadata": {},
     "output_type": "execute_result"
    }
   ],
   "source": [
    "%pwd"
   ]
  },
  {
   "cell_type": "code",
   "execution_count": 6,
   "metadata": {},
   "outputs": [
    {
     "name": "stdout",
     "output_type": "stream",
     "text": [
      "Collecting pydicom\n",
      "  Downloading pydicom-2.1.2-py3-none-any.whl (1.9 MB)\n",
      "Installing collected packages: pydicom\n",
      "Successfully installed pydicom-2.1.2\n",
      "Note: you may need to restart the kernel to use updated packages.\n"
     ]
    }
   ],
   "source": [
    "%pip install pydicom"
   ]
  },
  {
   "cell_type": "code",
   "execution_count": 4,
   "metadata": {},
   "outputs": [],
   "source": [
    "import pydicom\n",
    "from pydicom.data import get_testdata_files"
   ]
  },
  {
   "cell_type": "code",
   "execution_count": 14,
   "metadata": {},
   "outputs": [
    {
     "name": "stdout",
     "output_type": "stream",
     "text": [
      "Note: you may need to restart the kernel to use updated packages.\n"
     ]
    },
    {
     "name": "stderr",
     "output_type": "stream",
     "text": [
      "ERROR: Could not find a version that satisfies the requirement python3-tkinter (from versions: none)\n",
      "ERROR: No matching distribution found for python3-tkinter\n"
     ]
    }
   ],
   "source": [
    "%pip install python3-tkinter"
   ]
  },
  {
   "cell_type": "code",
   "execution_count": 6,
   "metadata": {
    "scrolled": true
   },
   "outputs": [
    {
     "name": "stdout",
     "output_type": "stream",
     "text": [
      "Collecting pathlib\n",
      "  Downloading pathlib-1.0.1.tar.gz (49 kB)\n",
      "Building wheels for collected packages: pathlib\n",
      "  Building wheel for pathlib (setup.py): started\n",
      "  Building wheel for pathlib (setup.py): finished with status 'done'\n",
      "  Created wheel for pathlib: filename=pathlib-1.0.1-py3-none-any.whl size=14353 sha256=97a17d89eab661f6bda0a039d0e5c057bfbe4608298265bc2b819bfaaf08c0f6\n",
      "  Stored in directory: c:\\users\\ilyass\\appdata\\local\\pip\\cache\\wheels\\59\\02\\2f\\ff4a3e16a518feb111ae1405908094483ef56fec0dfa39e571\n",
      "Successfully built pathlib\n",
      "Installing collected packages: pathlib\n",
      "Successfully installed pathlib-1.0.1\n",
      "Note: you may need to restart the kernel to use updated packages.\n"
     ]
    }
   ],
   "source": [
    "%pip install pathlib"
   ]
  },
  {
   "cell_type": "code",
   "execution_count": 25,
   "metadata": {},
   "outputs": [],
   "source": [
    "import pathlib"
   ]
  },
  {
   "cell_type": "code",
   "execution_count": 8,
   "metadata": {},
   "outputs": [],
   "source": [
    "import glob"
   ]
  },
  {
   "cell_type": "code",
   "execution_count": 33,
   "metadata": {},
   "outputs": [
    {
     "data": {
      "text/plain": [
       "'G:\\\\merged\\\\*.dcm'"
      ]
     },
     "execution_count": 33,
     "metadata": {},
     "output_type": "execute_result"
    }
   ],
   "source": [
    "str(pathlib.Path(directory, '*.dcm'))"
   ]
  },
  {
   "cell_type": "code",
   "execution_count": 26,
   "metadata": {},
   "outputs": [],
   "source": [
    "p = pathlib.Path('.')"
   ]
  },
  {
   "cell_type": "code",
   "execution_count": 27,
   "metadata": {},
   "outputs": [],
   "source": [
    "file_paths=list(p.glob('*.dcm'))"
   ]
  },
  {
   "cell_type": "code",
   "execution_count": 28,
   "metadata": {},
   "outputs": [
    {
     "data": {
      "text/plain": [
       "WindowsPath('1 (10).dcm')"
      ]
     },
     "execution_count": 28,
     "metadata": {},
     "output_type": "execute_result"
    }
   ],
   "source": [
    "file_paths[0]"
   ]
  },
  {
   "cell_type": "code",
   "execution_count": 29,
   "metadata": {},
   "outputs": [],
   "source": [
    "file_paths[0]=str(file_paths[0])"
   ]
  },
  {
   "cell_type": "code",
   "execution_count": 30,
   "metadata": {},
   "outputs": [
    {
     "data": {
      "text/plain": [
       "'1 (10).dcm'"
      ]
     },
     "execution_count": 30,
     "metadata": {},
     "output_type": "execute_result"
    }
   ],
   "source": [
    "file_paths[0]"
   ]
  },
  {
   "cell_type": "code",
   "execution_count": 31,
   "metadata": {},
   "outputs": [
    {
     "name": "stdout",
     "output_type": "stream",
     "text": [
      "AFFICHAGE DES PARAMETRES D'ACQUISITION\n",
      "Dataset.file_meta -------------------------------\n",
      "(0002, 0000) File Meta Information Group Length  UL: 174\n",
      "(0002, 0001) File Meta Information Version       OB: b'\\x00\\x01'\n",
      "(0002, 0002) Media Storage SOP Class UID         UI: MR Image Storage\n",
      "(0002, 0003) Media Storage SOP Instance UID      UI: 9999.22596315042475767417384926206472850432\n",
      "(0002, 0010) Transfer Syntax UID                 UI: Implicit VR Little Endian\n",
      "(0002, 0012) Implementation Class UID            UI: 1.2.40.0.13.1.1.1\n",
      "(0002, 0013) Implementation Version Name         SH: 'dcm4che-1.4.35'\n",
      "-------------------------------------------------\n",
      "(0008, 0005) Specific Character Set              CS: 'ISO_IR 100'\n",
      "(0008, 0008) Image Type                          CS: ['ORIGINAL', 'PRIMARY', 'M', 'ND']\n",
      "(0008, 0016) SOP Class UID                       UI: MR Image Storage\n",
      "(0008, 0018) SOP Instance UID                    UI: 9999.22596315042475767417384926206472850432\n",
      "(0008, 0020) Study Date                          DA: '20080319'\n",
      "(0008, 0023) Content Date                        DA: '20080319'\n",
      "(0008, 0030) Study Time                          TM: ''\n",
      "(0008, 0033) Content Time                        TM: ''\n",
      "(0008, 0050) Accession Number                    SH: '128396260169'\n",
      "(0008, 0060) Modality                            CS: 'MR'\n",
      "(0008, 0061) Modalities in Study                 CS: ['', 'PR', 'MR', '']\n",
      "(0008, 0070) Manufacturer                        LO: 'SIEMENS'\n",
      "(0008, 0090) Referring Physician's Name          PN: ''\n",
      "(0008, 1030) Study Description                   LO: 'HEAD^BRAIN'\n",
      "(0008, 1032)  Procedure Code Sequence  1 item(s) ---- \n",
      "   (0008, 0100) Code Value                          SH: 'IMG271'\n",
      "   (0008, 0102) Coding Scheme Designator            SH: 'L'\n",
      "   (0008, 0104) Code Meaning                        LO: 'MRI BRAIN WITH AND WITHOUT IV CONTRAST'\n",
      "   ---------\n",
      "(0008, 103e) Series Description                  LO: 'T2 TSE AXIAL'\n",
      "(0008, 1090) Manufacturer's Model Name           LO: 'Symphony'\n",
      "(0010, 0010) Patient's Name                      PN: '6553462339'\n",
      "(0010, 0020) Patient ID                          LO: '1858082296'\n",
      "(0010, 0030) Patient's Birth Date                DA: '19470903'\n",
      "(0010, 0040) Patient's Sex                       CS: 'F'\n",
      "(0010, 1010) Patient's Age                       AS: '060Y'\n",
      "(0012, 0062) Patient Identity Removed            CS: 'YES'\n",
      "(0018, 0010) Contrast/Bolus Agent                LO: ''\n",
      "(0018, 0015) Body Part Examined                  CS: ''\n",
      "(0018, 0020) Scanning Sequence                   CS: 'SE'\n",
      "(0018, 0021) Sequence Variant                    CS: ['SK', 'SP', 'OSP']\n",
      "(0018, 0022) Scan Options                        CS: ''\n",
      "(0018, 0023) MR Acquisition Type                 CS: '2D'\n",
      "(0018, 0024) Sequence Name                       SH: '*tse2d1_11'\n",
      "(0018, 0025) Angio Flag                          CS: 'N'\n",
      "(0018, 0050) Slice Thickness                     DS: \"5.0\"\n",
      "(0018, 0080) Repetition Time                     DS: \"5130.0\"\n",
      "(0018, 0081) Echo Time                           DS: \"113.0\"\n",
      "(0018, 0083) Number of Averages                  DS: \"1.0\"\n",
      "(0018, 0084) Imaging Frequency                   DS: \"63.68239\"\n",
      "(0018, 0085) Imaged Nucleus                      SH: '1H'\n",
      "(0018, 0086) Echo Number(s)                      IS: \"0\"\n",
      "(0018, 0087) Magnetic Field Strength             DS: \"1.5\"\n",
      "(0018, 0088) Spacing Between Slices              DS: \"6.0\"\n",
      "(0018, 0089) Number of Phase Encoding Steps      IS: \"209\"\n",
      "(0018, 0091) Echo Train Length                   IS: \"11\"\n",
      "(0018, 0093) Percent Sampling                    DS: \"50.0\"\n",
      "(0018, 0094) Percent Phase Field of View         DS: \"81.25\"\n",
      "(0018, 0095) Pixel Bandwidth                     DS: \"100.0\"\n",
      "(0018, 1010) Secondary Capture Device ID         LO: ''\n",
      "(0018, 1201) Time of Last Calibration            TM: '153311.000000'\n",
      "(0018, 1251) Transmit Coil Name                  SH: 'Body'\n",
      "(0018, 1310) Acquisition Matrix                  US: [0, 512, 208, 0]\n",
      "(0018, 1312) In-plane Phase Encoding Direction   CS: 'ROW'\n",
      "(0018, 1314) Flip Angle                          DS: \"180.0\"\n",
      "(0018, 1315) Variable Flip Angle Flag            CS: 'N'\n",
      "(0018, 1316) SAR                                 DS: \"0.38024607300758\"\n",
      "(0018, 1318) dB/dt                               DS: \"0.0\"\n",
      "(0018, 5100) Patient Position                    CS: 'HFS'\n",
      "(0019, 0010) Private Creator                     LO: 'SIEMENS MR HEADER'\n",
      "(0020, 000d) Study Instance UID                  UI: 9999.54064656790640883676306128874791748023\n",
      "(0020, 000e) Series Instance UID                 UI: 9999.312330444478503353813526167879558959053\n",
      "(0020, 0010) Study ID                            SH: ''\n",
      "(0020, 0011) Series Number                       IS: \"3\"\n",
      "(0020, 0012) Acquisition Number                  IS: \"1\"\n",
      "(0020, 0013) Instance Number                     IS: \"17\"\n",
      "(0020, 0020) Patient Orientation                 CS: ['0.9999514963417', '']\n",
      "(0020, 0022) Overlay Number                      IS: None\n",
      "(0020, 0024) Curve Number                        IS: None\n",
      "(0020, 0026) LUT Number                          IS: None\n",
      "(0020, 0032) Image Position (Patient)            DS: [-90.052272552686, -137.64165934047, 11.558982896717]\n",
      "(0020, 0037) Image Orientation (Patient)         DS: [0.9999514963417, 0.00017122896161, -0.0098476212677, 2.065827276e-010, 0.9998488652406, 0.01738524308359]\n",
      "(0020, 0052) Frame of Reference UID              UI: 9999.90470938900268423112802024321314251439\n",
      "(0020, 1040) Position Reference Indicator        LO: ''\n",
      "(0020, 1041) Slice Location                      DS: \"13.062558283959\"\n",
      "(0028, 0002) Samples per Pixel                   US: 1\n",
      "(0028, 0004) Photometric Interpretation          CS: 'MONOCHROME2'\n",
      "(0028, 0008) Number of Frames                    IS: \"1\"\n",
      "(0028, 0010) Rows                                US: 512\n",
      "(0028, 0011) Columns                             US: 416\n",
      "(0028, 0030) Pixel Spacing                       DS: [0.4296875, 0.4296875]\n",
      "(0028, 0100) Bits Allocated                      US: 16\n",
      "(0028, 0101) Bits Stored                         US: 12\n",
      "(0028, 0102) High Bit                            US: 11\n",
      "(0028, 0103) Pixel Representation                US: 0\n",
      "(0028, 0106) Smallest Image Pixel Value          US: 0\n",
      "(0028, 0107) Largest Image Pixel Value           US: 1077\n",
      "(0028, 1050) Window Center                       DS: \"487.0\"\n",
      "(0028, 1051) Window Width                        DS: \"1168.0\"\n",
      "(0028, 1055) Window Center & Width Explanation   LO: 'WINDOW1'\n",
      "(0029, 0010) Private Creator                     LO: 'SIEMENS CSA HEADER'\n",
      "(0029, 0011) Private Creator                     LO: 'SIEMENS MEDCOM HEADER2'\n",
      "(0032, 000a) Study Status ID                     CS: 'COMPLETED'\n",
      "(0032, 1064)  Requested Procedure Code Sequence  1 item(s) ---- \n",
      "   (0008, 0100) Code Value                          SH: 'IMG271'\n",
      "   (0008, 0102) Coding Scheme Designator            SH: 'L'\n",
      "   (0008, 0104) Code Meaning                        LO: 'MRI BRAIN WITH AND WITHOUT IV CONTRAST'\n",
      "   ---------\n",
      "(0040, 0245) Performed Procedure Step Start Time TM: '183731.953000'\n",
      "(0040, 0260)  Performed Protocol Code Sequence  1 item(s) ---- \n",
      "   (0008, 0100) Code Value                          SH: '651060'\n",
      "   (0008, 0102) Coding Scheme Designator            SH: 'L'\n",
      "   (0008, 0104) Code Meaning                        LO: 'MRI BRAIN WITH AND WITHOUT IV CONTRAST'\n",
      "   ---------\n",
      "(0051, 0010) Private Creator                     LO: 'SIEMENS MR HEADER'\n",
      "(0073, 0010) Private Creator                     LO: 'STENTOR'\n",
      "(4008, 0040) Results ID                          SH: ''\n",
      "(7fe0, 0010) Pixel Data                          OW: Array of 425984 elements\n"
     ]
    }
   ],
   "source": [
    "ds = pydicom.dcmread(str(file_paths[0]))\n",
    "print(\"AFFICHAGE DES PARAMETRES D'ACQUISITION\")\n",
    "print(ds)"
   ]
  },
  {
   "cell_type": "code",
   "execution_count": 40,
   "metadata": {},
   "outputs": [],
   "source": [
    "def isT2(file_path):\n",
    "    ds = pydicom.dcmread(str(file_path))\n",
    "    return (ds[0x008,0x103e].value).find('T2')>=0"
   ]
  },
  {
   "cell_type": "code",
   "execution_count": 210,
   "metadata": {},
   "outputs": [
    {
     "data": {
      "text/plain": [
       "True"
      ]
     },
     "execution_count": 210,
     "metadata": {},
     "output_type": "execute_result"
    }
   ],
   "source": [
    "isT2(file_paths[8])"
   ]
  },
  {
   "cell_type": "code",
   "execution_count": 212,
   "metadata": {
    "scrolled": true
   },
   "outputs": [
    {
     "name": "stdout",
     "output_type": "stream",
     "text": [
      "Collecting pycopy-copy\n",
      "  Downloading pycopy-copy-3.3.3.post7.tar.gz (3.7 kB)\n",
      "Note: you may need to restart the kernel to use updated packages.\n"
     ]
    },
    {
     "name": "stderr",
     "output_type": "stream",
     "text": [
      "    ERROR: Command errored out with exit status 1:\n",
      "     command: 'C:\\ProgramData\\Anaconda3\\python.exe' -c 'import sys, setuptools, tokenize; sys.argv[0] = '\"'\"'C:\\\\Users\\\\ILYASS\\\\AppData\\\\Local\\\\Temp\\\\pip-install-9y4ry_x2\\\\pycopy-copy\\\\setup.py'\"'\"'; __file__='\"'\"'C:\\\\Users\\\\ILYASS\\\\AppData\\\\Local\\\\Temp\\\\pip-install-9y4ry_x2\\\\pycopy-copy\\\\setup.py'\"'\"';f=getattr(tokenize, '\"'\"'open'\"'\"', open)(__file__);code=f.read().replace('\"'\"'\\r\\n'\"'\"', '\"'\"'\\n'\"'\"');f.close();exec(compile(code, __file__, '\"'\"'exec'\"'\"'))' egg_info --egg-base 'C:\\Users\\ILYASS\\AppData\\Local\\Temp\\pip-pip-egg-info-2tsfktnr'\n",
      "         cwd: C:\\Users\\ILYASS\\AppData\\Local\\Temp\\pip-install-9y4ry_x2\\pycopy-copy\\\n",
      "    Complete output (5 lines):\n",
      "    Traceback (most recent call last):\n",
      "      File \"<string>\", line 1, in <module>\n",
      "      File \"C:\\ProgramData\\Anaconda3\\lib\\tokenize.py\", line 392, in open\n",
      "        buffer = _builtin_open(filename, 'rb')\n",
      "    FileNotFoundError: [Errno 2] No such file or directory: 'C:\\\\Users\\\\ILYASS\\\\AppData\\\\Local\\\\Temp\\\\pip-install-9y4ry_x2\\\\pycopy-copy\\\\setup.py'\n",
      "    ----------------------------------------\n",
      "ERROR: Command errored out with exit status 1: python setup.py egg_info Check the logs for full command output.\n"
     ]
    }
   ],
   "source": [
    "%pip install pycopy-copy"
   ]
  },
  {
   "cell_type": "code",
   "execution_count": 1,
   "metadata": {},
   "outputs": [],
   "source": [
    "from copy import deepcopy"
   ]
  },
  {
   "cell_type": "code",
   "execution_count": 2,
   "metadata": {},
   "outputs": [],
   "source": [
    "import shutil\n",
    "import os\n",
    "import glob2"
   ]
  },
  {
   "cell_type": "code",
   "execution_count": 38,
   "metadata": {},
   "outputs": [
    {
     "name": "stdout",
     "output_type": "stream",
     "text": [
      "1 (10).dcm\n"
     ]
    }
   ],
   "source": [
    "for filename in glob2.glob('*.dcm'):\n",
    "    print(filename)\n",
    "    #fname = str(filename).split('/')[-1]\n",
    "    #print(fname)\n",
    "    break"
   ]
  },
  {
   "cell_type": "code",
   "execution_count": 13,
   "metadata": {},
   "outputs": [],
   "source": [
    "t2_path='G:/merged/T2/'"
   ]
  },
  {
   "cell_type": "code",
   "execution_count": 43,
   "metadata": {},
   "outputs": [],
   "source": [
    "for filename in glob2.glob('*.dcm'):\n",
    "    if isT2(filename):\n",
    "        fname = str(filename).split('/')[-1]\n",
    "        shutil.copy(str(filename), os.path.join(t2_path, fname))"
   ]
  },
  {
   "cell_type": "code",
   "execution_count": 16,
   "metadata": {},
   "outputs": [],
   "source": [
    "import pydicom"
   ]
  },
  {
   "cell_type": "code",
   "execution_count": 45,
   "metadata": {},
   "outputs": [
    {
     "name": "stdout",
     "output_type": "stream",
     "text": [
      "G:\\merged\\T2\n"
     ]
    }
   ],
   "source": [
    "%cd T2"
   ]
  },
  {
   "cell_type": "code",
   "execution_count": 47,
   "metadata": {},
   "outputs": [],
   "source": [
    "import glob"
   ]
  },
  {
   "cell_type": "code",
   "execution_count": 49,
   "metadata": {},
   "outputs": [],
   "source": [
    "p = pathlib.Path('.')"
   ]
  },
  {
   "cell_type": "code",
   "execution_count": 51,
   "metadata": {},
   "outputs": [],
   "source": [
    "test_list=list(p.glob('*.dcm'))"
   ]
  },
  {
   "cell_type": "code",
   "execution_count": 53,
   "metadata": {},
   "outputs": [
    {
     "data": {
      "text/plain": [
       "'1 (10).dcm'"
      ]
     },
     "execution_count": 53,
     "metadata": {},
     "output_type": "execute_result"
    }
   ],
   "source": [
    "str(test_list[0])"
   ]
  },
  {
   "cell_type": "code",
   "execution_count": 54,
   "metadata": {},
   "outputs": [],
   "source": [
    "for i in range(len(test_list)):\n",
    "    test_list[i]=str(test_list[i])"
   ]
  },
  {
   "cell_type": "code",
   "execution_count": 57,
   "metadata": {},
   "outputs": [],
   "source": [
    "boolean=[]\n",
    "for i in range(len(test_list)):\n",
    "    boolean.append(isT2(test_list[i]))"
   ]
  },
  {
   "cell_type": "code",
   "execution_count": 58,
   "metadata": {},
   "outputs": [],
   "source": [
    "import numpy as np"
   ]
  },
  {
   "cell_type": "code",
   "execution_count": 59,
   "metadata": {},
   "outputs": [
    {
     "data": {
      "text/plain": [
       "array([ True])"
      ]
     },
     "execution_count": 59,
     "metadata": {},
     "output_type": "execute_result"
    }
   ],
   "source": [
    "np.unique(boolean)"
   ]
  },
  {
   "cell_type": "code",
   "execution_count": null,
   "metadata": {},
   "outputs": [],
   "source": []
  }
 ],
 "metadata": {
  "kernelspec": {
   "display_name": "Python 3",
   "language": "python",
   "name": "python3"
  },
  "language_info": {
   "codemirror_mode": {
    "name": "ipython",
    "version": 3
   },
   "file_extension": ".py",
   "mimetype": "text/x-python",
   "name": "python",
   "nbconvert_exporter": "python",
   "pygments_lexer": "ipython3",
   "version": "3.8.3"
  }
 },
 "nbformat": 4,
 "nbformat_minor": 4
}
